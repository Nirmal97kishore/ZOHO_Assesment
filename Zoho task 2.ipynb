{
 "cells": [
  {
   "cell_type": "markdown",
   "id": "ff56f726-5563-4159-bd5d-3568f8872c90",
   "metadata": {},
   "source": [
    "Question 1\n",
    "Problem Description:\n",
    "You are given an integer array coins representing coins of different denominations and an integer\n",
    "amount representing a total amount of money.\n",
    "Return the fewest number of coins that you need to make up that amount. If that amount of money\n",
    "cannot be made up by any combination of the coins, return -1.\n",
    "You may assume that you have an infinite number of each kind of coin.\n",
    "Input Description:\n",
    "An integer array `coins` representing coins of different denominations.\n",
    "An integer `amount` representing a total amount of money.\n",
    "Output Description:\n",
    "The fewest number of coins needed to make up the amount. If the amount cannot be made up,\n",
    "return -1.\n",
    "Examples:\n",
    "**Example 1:**\n",
    "- Input: `coins = [1, 2, 5]`, `amount = 11`\n",
    "- Output: `3`\n",
    "- Explanation: `11 = 5 + 5 + 1`\n"
   ]
  },
  {
   "cell_type": "code",
   "execution_count": 13,
   "id": "fd3d84ce-9ac4-458f-93fe-08ce5c7d37c8",
   "metadata": {},
   "outputs": [
    {
     "name": "stdin",
     "output_type": "stream",
     "text": [
      " 1,2,5\n",
      " 11\n"
     ]
    },
    {
     "name": "stdout",
     "output_type": "stream",
     "text": [
      "3\n"
     ]
    }
   ],
   "source": [
    "def coin_chage(coins,amount):\n",
    "    dp=[amount+1]*(amount+1)\n",
    "    dp[0]=0 # initialize the base value\n",
    "    for coin in coins:\n",
    "        for i in range(coin,amount+1):\n",
    "            dp[i]=min(dp[i],dp[i-coin]+1)\n",
    "            \n",
    "    return dp[amount] if dp[amount]!=amount+1 else -1 \n",
    "    \n",
    "coins=list(map(int,input().split(',')))\n",
    "amount=int(input())\n",
    "print(coin_chage(coins,amount))\n",
    "            "
   ]
  },
  {
   "cell_type": "markdown",
   "id": "bcbc988d-78af-496d-b4ad-a5b52973f91b",
   "metadata": {},
   "source": [
    "Example 2:\n",
    "input:coins=[2], amount=3\n",
    "output:'-1'\n"
   ]
  },
  {
   "cell_type": "code",
   "execution_count": 27,
   "id": "b768b124-c7c0-4df1-bf68-5be86c0593b9",
   "metadata": {},
   "outputs": [
    {
     "name": "stdin",
     "output_type": "stream",
     "text": [
      " 2 \n",
      " 3\n"
     ]
    },
    {
     "name": "stdout",
     "output_type": "stream",
     "text": [
      "-1\n"
     ]
    }
   ],
   "source": [
    "def count_coins(coins,amount):\n",
    "    dp=[amount+1]*(amount+1)\n",
    "    dp[0]=0\n",
    "    for coin in coins:\n",
    "        for x in range(coin,amount+1):\n",
    "            dp[x]=min(dp[x],dp[x-coin]+1)\n",
    "    return dp[amount] if dp[amount]!=amount+1 else -1\n",
    "coins=list(map(int,input().strip()))\n",
    "amount=int(input())\n",
    "print(count_coins(coins,amount))\n",
    "        "
   ]
  },
  {
   "cell_type": "markdown",
   "id": "ba458d8c-af25-4ce1-abb6-eb102089bb90",
   "metadata": {},
   "source": [
    "**Example 3:**\n",
    "- Input: `coins = [1]`, `amount = 0`\n",
    "- Output: `0`\n"
   ]
  },
  {
   "cell_type": "code",
   "execution_count": 28,
   "id": "7c62b1fb-9cc9-4c34-b2e7-458f97492f22",
   "metadata": {},
   "outputs": [
    {
     "name": "stdin",
     "output_type": "stream",
     "text": [
      " 1\n",
      " 0\n"
     ]
    },
    {
     "name": "stdout",
     "output_type": "stream",
     "text": [
      "0\n"
     ]
    }
   ],
   "source": [
    "def count_coins(coins,amount):\n",
    "    dp=[amount+1]*(amount+1)\n",
    "    dp[0]=0\n",
    "    for coin in coins:\n",
    "        for x in range(coin,amount+1):\n",
    "            dp[x]=min(dp[x],dp[x-coin]+1)\n",
    "    return dp[amount] if dp[amount]!=amount+1 else -1\n",
    "coins=list(map(int,input().strip()))\n",
    "amount=int(input())\n",
    "print(count_coins(coins,amount))"
   ]
  },
  {
   "cell_type": "markdown",
   "id": "5cded847-267f-45a5-973b-f280b7a3d0a4",
   "metadata": {},
   "source": [
    "#Question 2\n",
    "Problem Description:\n",
    "Given a string `s`, return the longest palindromic substring in `s`."
   ]
  },
  {
   "cell_type": "markdown",
   "id": "822cc49d-d591-464b-8d90-adbaea571383",
   "metadata": {},
   "source": [
    "Examples:\n",
    "**Example 1:**\n",
    "- Input: `s = \"babad\"`\n",
    "- Output: `\"bab\"`\n",
    "- Explanation: `\"aba\"` is also a valid answer."
   ]
  },
  {
   "cell_type": "code",
   "execution_count": 29,
   "id": "0d01e61c-8413-4187-9716-346e01a51583",
   "metadata": {},
   "outputs": [
    {
     "name": "stdin",
     "output_type": "stream",
     "text": [
      " babad\n"
     ]
    },
    {
     "name": "stdout",
     "output_type": "stream",
     "text": [
      "aba\n"
     ]
    }
   ],
   "source": [
    "\n",
    "def longest_palindromic_substring(s):\n",
    "    if not s:\n",
    "        return \"\"\n",
    "    start, end = 0, 0 \n",
    "    \n",
    "    def expand_around_center(left, right):\n",
    "        while left >= 0 and right < len(s) and s[left] == s[right]:\n",
    "            left -= 1\n",
    "            right += 1\n",
    "        # Return the length of the palindrome\n",
    "        return right - left - 1\n",
    "    \n",
    "    for i in range(len(s)):\n",
    "        len1 = expand_around_center(i, i)      \n",
    "        len2 = expand_around_center(i, i + 1) \n",
    "        max_len = max(len1, len2)\n",
    "        if max_len > end - start:\n",
    "            start = i - (max_len - 1) // 2\n",
    "            end = i + max_len // 2\n",
    "    \n",
    "    return s[start:end + 1]\n",
    "\n",
    "# Example usage:\n",
    "s=input()\n",
    "print(longest_palindromic_substring(s))  \n"
   ]
  },
  {
   "cell_type": "code",
   "execution_count": null,
   "id": "99f47948-0ac2-47a8-8441-ec16f2fd1a79",
   "metadata": {},
   "outputs": [],
   "source": [
    "**Example 2:**\n",
    "- Input: `s = \"cbbd\"`\n",
    "- Output: `\"bb\"`\n"
   ]
  },
  {
   "cell_type": "code",
   "execution_count": 30,
   "id": "7ccb00d4-94d9-4670-83ab-f81de29f43c0",
   "metadata": {},
   "outputs": [
    {
     "name": "stdin",
     "output_type": "stream",
     "text": [
      " cbbd\n"
     ]
    },
    {
     "name": "stdout",
     "output_type": "stream",
     "text": [
      "bb\n"
     ]
    }
   ],
   "source": [
    "def longest_palindromic_substring(s):\n",
    "    if not s:\n",
    "        return \"\"\n",
    "    start, end = 0, 0 \n",
    "    \n",
    "    def expand_around_center(left, right):\n",
    "        while left >= 0 and right < len(s) and s[left] == s[right]:\n",
    "            left -= 1\n",
    "            right += 1\n",
    "        # Return the length of the palindrome\n",
    "        return right - left - 1\n",
    "    \n",
    "    for i in range(len(s)):\n",
    "        len1 = expand_around_center(i, i)      \n",
    "        len2 = expand_around_center(i, i + 1) \n",
    "        max_len = max(len1, len2)\n",
    "        if max_len > end - start:\n",
    "            start = i - (max_len - 1) // 2\n",
    "            end = i + max_len // 2\n",
    "    \n",
    "    return s[start:end + 1]\n",
    "\n",
    "# Example usage:\n",
    "s=input()\n",
    "print(longest_palindromic_substring(s))  \n"
   ]
  },
  {
   "cell_type": "markdown",
   "id": "d9968a54-9de8-4bd2-9aa5-6ad405fb226b",
   "metadata": {},
   "source": [
    "Question 3\n",
    "Input Description:\n",
    "Two strings `sequence` and `word`.\n",
    "Output Description:\n",
    "The maximum k-repeating value of `word` in `sequence`.\n",
    "Examples:\n",
    "**Example 1:**\n",
    "- Input: `sequence = \"ababc\"`, `word = \"ab\"`\n",
    "- Output: `2`\n",
    "- Explanation: `\"abab\"` is a substring in `\"ababc\"`"
   ]
  },
  {
   "cell_type": "code",
   "execution_count": 31,
   "id": "5594ab1f-4ed8-41fa-acb2-71f197daea12",
   "metadata": {},
   "outputs": [
    {
     "name": "stdin",
     "output_type": "stream",
     "text": [
      " ababc\n",
      " ab\n"
     ]
    },
    {
     "name": "stdout",
     "output_type": "stream",
     "text": [
      "2\n"
     ]
    }
   ],
   "source": [
    "def max_k_repeating(sequence, word):\n",
    "    k = 0\n",
    "    # Increment k until the k-repeating word is no longer a substring\n",
    "    while word * (k + 1) in sequence:\n",
    "        k += 1\n",
    "    return k\n",
    "\n",
    "# Example usage:\n",
    "sequence = input()\n",
    "word =input()\n",
    "print(max_k_repeating(sequence, word))"
   ]
  },
  {
   "cell_type": "code",
   "execution_count": null,
   "id": "10e07847-da50-4957-9787-3facc6761827",
   "metadata": {},
   "outputs": [],
   "source": [
    "**Example 2:**\n",
    "- Input: `sequence = \"ababc\"`, `word = \"ba\"`\n",
    "- Output: `1`\n",
    "- Explanation: `\"ba\"` is a substring in `\"ababc\"`. `\"baba\"` is not a substring in `\"ababc\"`.\n"
   ]
  },
  {
   "cell_type": "code",
   "execution_count": 32,
   "id": "78a18704-3159-4542-93df-ddede0b2fe1e",
   "metadata": {},
   "outputs": [
    {
     "name": "stdin",
     "output_type": "stream",
     "text": [
      " ababc\n",
      " ba\n"
     ]
    },
    {
     "name": "stdout",
     "output_type": "stream",
     "text": [
      "1\n"
     ]
    }
   ],
   "source": [
    "def max_k_repeating(sequence, word):\n",
    "    k = 0\n",
    "    # Increment k until the k-repeating word is no longer a substring\n",
    "    while word * (k + 1) in sequence:\n",
    "        k += 1\n",
    "    return k\n",
    "\n",
    "# Example usage:\n",
    "sequence = input()\n",
    "word =input()\n",
    "print(max_k_repeating(sequence, word))"
   ]
  },
  {
   "cell_type": "markdown",
   "id": "f9040404-35a5-4dbf-b413-d7ff57577546",
   "metadata": {},
   "source": [
    "**Example 3:**\n",
    "- Input: `sequence = \"ababc\"`, `word = \"ac\"`\n",
    "- Output: `0`\n",
    "- Explanation: `\"ac\"` is not a substring in `\"ababc\"`"
   ]
  },
  {
   "cell_type": "code",
   "execution_count": 33,
   "id": "d28e7e46-bb50-44e1-98a3-631dad538f10",
   "metadata": {},
   "outputs": [
    {
     "name": "stdin",
     "output_type": "stream",
     "text": [
      " ababc\n",
      " ac\n"
     ]
    },
    {
     "name": "stdout",
     "output_type": "stream",
     "text": [
      "0\n"
     ]
    }
   ],
   "source": [
    "def max_k_repeating(sequence, word):\n",
    "    k = 0\n",
    "    # Increment k until the k-repeating word is no longer a substring\n",
    "    while word * (k + 1) in sequence:\n",
    "        k += 1\n",
    "    return k\n",
    "\n",
    "# Example usage:\n",
    "sequence = input()\n",
    "word =input()\n",
    "print(max_k_repeating(sequence, word))"
   ]
  },
  {
   "cell_type": "markdown",
   "id": "731835c0-6c9a-4843-94fe-7fa1143a79a3",
   "metadata": {},
   "source": [
    "Question 4\n",
    "problem Description:\n",
    "Given an integer array `nums`, find the subarray with the largest sum, and return its sum.\n",
    "Input Description:\n",
    "An integer array `nums`.\n",
    "Output Description:\n",
    "The sum of the subarray with the largest sum.\n"
   ]
  },
  {
   "cell_type": "markdown",
   "id": "e7226135-1ec8-43b6-95f7-88cfbeedb1ab",
   "metadata": {},
   "source": [
    "Examples:\n",
    "**Example 1:**\n",
    "- Input: `nums = [-2, 1, -3, 4, -1, 2, 1, -5, 4]\n",
    "  Output=6"
   ]
  },
  {
   "cell_type": "code",
   "execution_count": 36,
   "id": "1a298221-a907-449d-9952-1bd43e24afaa",
   "metadata": {},
   "outputs": [
    {
     "name": "stdin",
     "output_type": "stream",
     "text": [
      " -2, 1, -3, 4, -1, 2, 1, -5, 4\n"
     ]
    },
    {
     "name": "stdout",
     "output_type": "stream",
     "text": [
      "6\n"
     ]
    }
   ],
   "source": [
    "def max_subarray_sum(nums):\n",
    "    if not nums:\n",
    "        return 0\n",
    "    \n",
    "    current_sum = max_sum = nums[0]\n",
    "    \n",
    "    for num in nums[1:]:\n",
    "        current_sum = max(num, current_sum + num)\n",
    "        max_sum = max(max_sum, current_sum)\n",
    "    \n",
    "    return max_sum\n",
    "\n",
    "# Example usage:\n",
    "nums = list(map(int,input().split(',')))\n",
    "print(max_subarray_sum(nums))  \n"
   ]
  },
  {
   "cell_type": "markdown",
   "id": "74f64e1e-317b-45e9-9631-eebfab4ef4e5",
   "metadata": {},
   "source": [
    "**Example 2:**\n",
    "- Input: `nums = [1]`\n",
    "- Output: `1`\n",
    "- Explanation: The subarray `[1]` has the largest sum `1`.\n"
   ]
  },
  {
   "cell_type": "code",
   "execution_count": 37,
   "id": "66b576de-ead9-4f0a-bef7-e96aa7137e18",
   "metadata": {},
   "outputs": [
    {
     "name": "stdin",
     "output_type": "stream",
     "text": [
      " 1\n"
     ]
    },
    {
     "name": "stdout",
     "output_type": "stream",
     "text": [
      "1\n"
     ]
    }
   ],
   "source": [
    "def max_subarray_sum(nums):\n",
    "    if not nums:\n",
    "        return 0\n",
    "    \n",
    "    current_sum = max_sum = nums[0]\n",
    "    \n",
    "    for num in nums[1:]:\n",
    "        current_sum = max(num, current_sum + num)\n",
    "        max_sum = max(max_sum, current_sum)\n",
    "    \n",
    "    return max_sum\n",
    "\n",
    "# Example usage:\n",
    "nums = list(map(int,input().split()))\n",
    "print(max_subarray_sum(nums)) "
   ]
  },
  {
   "cell_type": "markdown",
   "id": "140cb45d-f644-40f2-81e0-e8bee976699d",
   "metadata": {},
   "source": [
    "**Example 3:**\n",
    "- Input: `nums = [5, 4, -1, 7, 8]`\n",
    "- Output: `23`\n",
    "- Explanation: The subarray `[5, 4, -1, 7, 8]` has the largest sum `23`."
   ]
  },
  {
   "cell_type": "code",
   "execution_count": 38,
   "id": "c29a3a1d-c9cb-4c0a-ae69-0d1df384b1b3",
   "metadata": {},
   "outputs": [
    {
     "name": "stdin",
     "output_type": "stream",
     "text": [
      " 5, 4, -1, 7, 8\n"
     ]
    },
    {
     "name": "stdout",
     "output_type": "stream",
     "text": [
      "23\n"
     ]
    }
   ],
   "source": [
    "def max_subarray_sum(nums):\n",
    "    if not nums:\n",
    "        return 0\n",
    "    \n",
    "    current_sum = max_sum = nums[0]\n",
    "    \n",
    "    for num in nums[1:]:\n",
    "        current_sum = max(num, current_sum + num)\n",
    "        max_sum = max(max_sum, current_sum)\n",
    "    \n",
    "    return max_sum\n",
    "\n",
    "# Example usage:\n",
    "nums = list(map(int,input().split(',')))\n",
    "print(max_subarray_sum(nums)) "
   ]
  },
  {
   "cell_type": "markdown",
   "id": "773427f0-8ef9-4b8e-9f7f-62667a99b3aa",
   "metadata": {},
   "source": [
    "Question 5\n",
    "Problem Description:\n",
    "You are climbing a staircase. It takes `n` steps to reach the top.\n",
    "Each time you can either climb 1 or 2 steps. In how many distinct ways can you climb to the top?\n",
    "Input Description:\n",
    "An integer `n`.\n",
    "Output Description:\n",
    "The number of distinct ways to climb to the top."
   ]
  },
  {
   "cell_type": "markdown",
   "id": "ca345b38-44cd-45ed-a71c-6dd4fd87d5c5",
   "metadata": {},
   "source": [
    "**Example 1:**\n",
    "- Input: `n = 2`\n",
    "- Output: `2`\n"
   ]
  },
  {
   "cell_type": "code",
   "execution_count": 39,
   "id": "143ca504-e5aa-4302-8fcc-b984ad034e57",
   "metadata": {},
   "outputs": [
    {
     "name": "stdin",
     "output_type": "stream",
     "text": [
      " 2\n"
     ]
    },
    {
     "name": "stdout",
     "output_type": "stream",
     "text": [
      "2\n"
     ]
    }
   ],
   "source": [
    "def climb_stairs(n):\n",
    "    if n == 0:\n",
    "        return 1\n",
    "    elif n == 1:\n",
    "        return 1\n",
    "    \n",
    "    # Initialize base cases\n",
    "    prev1, prev2 = 1, 1\n",
    "    \n",
    "    # Use a loop to compute the number of ways to reach each step\n",
    "    for _ in range(2, n + 1):\n",
    "        current = prev1 + prev2\n",
    "        prev1, prev2 = prev2, current\n",
    "    \n",
    "    return prev2\n",
    "\n",
    "# Example usage:\n",
    "n = int(input())\n",
    "print(climb_stairs(n))  \n"
   ]
  },
  {
   "cell_type": "markdown",
   "id": "efec924c-649b-43d9-a2c4-3a083d3f8735",
   "metadata": {},
   "source": [
    "**Example 2:**\n",
    "- Input: `n = 3`\n",
    "- Output: `3`\n"
   ]
  },
  {
   "cell_type": "code",
   "execution_count": 41,
   "id": "5165f915-3a0b-4bd0-8948-7c67c1fbd2ea",
   "metadata": {},
   "outputs": [
    {
     "name": "stdin",
     "output_type": "stream",
     "text": [
      " 3\n"
     ]
    },
    {
     "name": "stdout",
     "output_type": "stream",
     "text": [
      "3\n"
     ]
    }
   ],
   "source": [
    "def climb_stairs(n):\n",
    "    if n == 0:\n",
    "        return 1\n",
    "    elif n == 1:\n",
    "        return 1\n",
    "    \n",
    "    # Initialize base cases\n",
    "    prev1, prev2 = 1, 1\n",
    "    \n",
    "    # Use a loop to compute the number of ways to reach each step\n",
    "    for _ in range(2, n + 1):\n",
    "        current = prev1 + prev2\n",
    "        prev1, prev2 = prev2, current\n",
    "    \n",
    "    return prev2\n",
    "\n",
    "# Example usage:\n",
    "n = int(input())\n",
    "print(climb_stairs(n))  \n"
   ]
  }
 ],
 "metadata": {
  "kernelspec": {
   "display_name": "Python 3 (ipykernel)",
   "language": "python",
   "name": "python3"
  },
  "language_info": {
   "codemirror_mode": {
    "name": "ipython",
    "version": 3
   },
   "file_extension": ".py",
   "mimetype": "text/x-python",
   "name": "python",
   "nbconvert_exporter": "python",
   "pygments_lexer": "ipython3",
   "version": "3.9.13"
  }
 },
 "nbformat": 4,
 "nbformat_minor": 5
}
